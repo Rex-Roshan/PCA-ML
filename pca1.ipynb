{
 "cells": [
  {
   "cell_type": "code",
   "execution_count": 2,
   "metadata": {},
   "outputs": [
    {
     "name": "stdout",
     "output_type": "stream",
     "text": [
      "[[2 1]\n",
      " [3 5]\n",
      " [4 3]\n",
      " [5 6]\n",
      " [6 7]\n",
      " [7 8]]\n",
      "[4.5 5. ]\n",
      "[[-2.5 -4. ]\n",
      " [-1.5  0. ]\n",
      " [-0.5 -2. ]\n",
      " [ 0.5  1. ]\n",
      " [ 1.5  2. ]\n",
      " [ 2.5  3. ]]\n",
      "[[3.5 4.4]\n",
      " [4.4 6.8]]\n",
      "[[-0.82192562 -0.56959484]\n",
      " [ 0.56959484 -0.82192562]]\n",
      "[0.45079794 9.84920206]\n"
     ]
    }
   ],
   "source": [
    "from numpy import array\n",
    "from numpy import mean\n",
    "from numpy import cov\n",
    "from numpy.linalg import eig\n",
    "\n",
    "A = array([[2,1], [3, 5], [4,3],[5,6],[6,7],[7,8]])\n",
    "print(A)\n",
    "\n",
    "M = mean(A.T, axis=1)\n",
    "print(M)\n",
    "\n",
    "C = A - M\n",
    "print(C)\n",
    "\n",
    "V = cov(C.T)\n",
    "print(V)\n",
    "\n",
    "values, vectors = eig(V)\n",
    "print(vectors)\n",
    "print(values)\n",
    "\n"
   ]
  },
  {
   "cell_type": "code",
   "execution_count": null,
   "metadata": {},
   "outputs": [],
   "source": []
  }
 ],
 "metadata": {
  "kernelspec": {
   "display_name": "Python 3",
   "language": "python",
   "name": "python3"
  },
  "language_info": {
   "codemirror_mode": {
    "name": "ipython",
    "version": 3
   },
   "file_extension": ".py",
   "mimetype": "text/x-python",
   "name": "python",
   "nbconvert_exporter": "python",
   "pygments_lexer": "ipython3",
   "version": "3.7.0"
  }
 },
 "nbformat": 4,
 "nbformat_minor": 5
}
